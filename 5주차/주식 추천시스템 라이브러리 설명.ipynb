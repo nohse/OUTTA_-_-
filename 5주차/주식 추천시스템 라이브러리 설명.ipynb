{
 "cells": [
  {
   "cell_type": "markdown",
   "id": "6a5489f9",
   "metadata": {},
   "source": [
    "# 라이브러리 설치"
   ]
  },
  {
   "cell_type": "code",
   "execution_count": 1,
   "id": "9d869f64",
   "metadata": {
    "id": "9d869f64",
    "outputId": "3d94a3de-d3cd-40ca-e0b1-3d2d21f5f6ef"
   },
   "outputs": [
    {
     "name": "stdout",
     "output_type": "stream",
     "text": [
      "Requirement already satisfied: pandas_datareader in c:\\users\\samsung\\anaconda3\\lib\\site-packages (0.10.0)\n",
      "Requirement already satisfied: pandas>=0.23 in c:\\users\\samsung\\anaconda3\\lib\\site-packages (from pandas_datareader) (1.4.2)\n",
      "Requirement already satisfied: requests>=2.19.0 in c:\\users\\samsung\\anaconda3\\lib\\site-packages (from pandas_datareader) (2.27.1)\n",
      "Requirement already satisfied: lxml in c:\\users\\samsung\\anaconda3\\lib\\site-packages (from pandas_datareader) (4.9.2)\n",
      "Requirement already satisfied: python-dateutil>=2.8.1 in c:\\users\\samsung\\anaconda3\\lib\\site-packages (from pandas>=0.23->pandas_datareader) (2.8.2)\n",
      "Requirement already satisfied: pytz>=2020.1 in c:\\users\\samsung\\anaconda3\\lib\\site-packages (from pandas>=0.23->pandas_datareader) (2023.3)\n",
      "Requirement already satisfied: numpy>=1.18.5 in c:\\users\\samsung\\anaconda3\\lib\\site-packages (from pandas>=0.23->pandas_datareader) (1.21.5)\n",
      "Requirement already satisfied: six>=1.5 in c:\\users\\samsung\\anaconda3\\lib\\site-packages (from python-dateutil>=2.8.1->pandas>=0.23->pandas_datareader) (1.16.0)\n",
      "Requirement already satisfied: urllib3<1.27,>=1.21.1 in c:\\users\\samsung\\anaconda3\\lib\\site-packages (from requests>=2.19.0->pandas_datareader) (1.26.9)\n",
      "Requirement already satisfied: charset-normalizer~=2.0.0 in c:\\users\\samsung\\anaconda3\\lib\\site-packages (from requests>=2.19.0->pandas_datareader) (2.0.4)\n",
      "Requirement already satisfied: certifi>=2017.4.17 in c:\\users\\samsung\\anaconda3\\lib\\site-packages (from requests>=2.19.0->pandas_datareader) (2021.10.8)\n",
      "Requirement already satisfied: idna<4,>=2.5 in c:\\users\\samsung\\anaconda3\\lib\\site-packages (from requests>=2.19.0->pandas_datareader) (3.3)\n",
      "Requirement already satisfied: yfinance in c:\\users\\samsung\\anaconda3\\lib\\site-packages (0.2.24)\n",
      "Requirement already satisfied: pytz>=2022.5 in c:\\users\\samsung\\anaconda3\\lib\\site-packages (from yfinance) (2023.3)\n",
      "Requirement already satisfied: requests>=2.26 in c:\\users\\samsung\\anaconda3\\lib\\site-packages (from yfinance) (2.27.1)\n",
      "Requirement already satisfied: beautifulsoup4>=4.11.1 in c:\\users\\samsung\\anaconda3\\lib\\site-packages (from yfinance) (4.11.1)\n",
      "Requirement already satisfied: html5lib>=1.1 in c:\\users\\samsung\\anaconda3\\lib\\site-packages (from yfinance) (1.1)\n",
      "Requirement already satisfied: lxml>=4.9.1 in c:\\users\\samsung\\anaconda3\\lib\\site-packages (from yfinance) (4.9.2)\n",
      "Requirement already satisfied: pandas>=1.3.0 in c:\\users\\samsung\\anaconda3\\lib\\site-packages (from yfinance) (1.4.2)\n",
      "Requirement already satisfied: multitasking>=0.0.7 in c:\\users\\samsung\\anaconda3\\lib\\site-packages (from yfinance) (0.0.11)\n",
      "Requirement already satisfied: numpy>=1.16.5 in c:\\users\\samsung\\anaconda3\\lib\\site-packages (from yfinance) (1.21.5)\n",
      "Requirement already satisfied: appdirs>=1.4.4 in c:\\users\\samsung\\anaconda3\\lib\\site-packages (from yfinance) (1.4.4)\n",
      "Requirement already satisfied: frozendict>=2.3.4 in c:\\users\\samsung\\anaconda3\\lib\\site-packages (from yfinance) (2.3.8)\n",
      "Requirement already satisfied: soupsieve>1.2 in c:\\users\\samsung\\anaconda3\\lib\\site-packages (from beautifulsoup4>=4.11.1->yfinance) (2.3.1)\n",
      "Requirement already satisfied: six>=1.9 in c:\\users\\samsung\\anaconda3\\lib\\site-packages (from html5lib>=1.1->yfinance) (1.16.0)\n",
      "Requirement already satisfied: webencodings in c:\\users\\samsung\\anaconda3\\lib\\site-packages (from html5lib>=1.1->yfinance) (0.5.1)\n",
      "Requirement already satisfied: python-dateutil>=2.8.1 in c:\\users\\samsung\\anaconda3\\lib\\site-packages (from pandas>=1.3.0->yfinance) (2.8.2)\n",
      "Requirement already satisfied: urllib3<1.27,>=1.21.1 in c:\\users\\samsung\\anaconda3\\lib\\site-packages (from requests>=2.26->yfinance) (1.26.9)\n",
      "Requirement already satisfied: charset-normalizer~=2.0.0 in c:\\users\\samsung\\anaconda3\\lib\\site-packages (from requests>=2.26->yfinance) (2.0.4)\n",
      "Requirement already satisfied: idna<4,>=2.5 in c:\\users\\samsung\\anaconda3\\lib\\site-packages (from requests>=2.26->yfinance) (3.3)\n",
      "Requirement already satisfied: certifi>=2017.4.17 in c:\\users\\samsung\\anaconda3\\lib\\site-packages (from requests>=2.26->yfinance) (2021.10.8)\n"
     ]
    },
    {
     "name": "stderr",
     "output_type": "stream",
     "text": [
      "ERROR: Invalid requirement: '#로드가'\n"
     ]
    },
    {
     "name": "stdout",
     "output_type": "stream",
     "text": [
      "Requirement already satisfied: yahoo_fin in c:\\users\\samsung\\anaconda3\\lib\\site-packages (0.8.9.1)\n",
      "Requirement already satisfied: requests-html in c:\\users\\samsung\\anaconda3\\lib\\site-packages (from yahoo_fin) (0.10.0)\n",
      "Requirement already satisfied: requests in c:\\users\\samsung\\anaconda3\\lib\\site-packages (from yahoo_fin) (2.27.1)\n",
      "Requirement already satisfied: pandas in c:\\users\\samsung\\anaconda3\\lib\\site-packages (from yahoo_fin) (1.4.2)\n",
      "Requirement already satisfied: feedparser in c:\\users\\samsung\\anaconda3\\lib\\site-packages (from yahoo_fin) (6.0.10)\n",
      "Requirement already satisfied: sgmllib3k in c:\\users\\samsung\\anaconda3\\lib\\site-packages (from feedparser->yahoo_fin) (1.0.0)\n",
      "Requirement already satisfied: python-dateutil>=2.8.1 in c:\\users\\samsung\\anaconda3\\lib\\site-packages (from pandas->yahoo_fin) (2.8.2)\n",
      "Requirement already satisfied: numpy>=1.18.5 in c:\\users\\samsung\\anaconda3\\lib\\site-packages (from pandas->yahoo_fin) (1.21.5)\n",
      "Requirement already satisfied: pytz>=2020.1 in c:\\users\\samsung\\anaconda3\\lib\\site-packages (from pandas->yahoo_fin) (2023.3)\n",
      "Requirement already satisfied: six>=1.5 in c:\\users\\samsung\\anaconda3\\lib\\site-packages (from python-dateutil>=2.8.1->pandas->yahoo_fin) (1.16.0)\n",
      "Requirement already satisfied: urllib3<1.27,>=1.21.1 in c:\\users\\samsung\\anaconda3\\lib\\site-packages (from requests->yahoo_fin) (1.26.9)\n",
      "Requirement already satisfied: charset-normalizer~=2.0.0 in c:\\users\\samsung\\anaconda3\\lib\\site-packages (from requests->yahoo_fin) (2.0.4)\n",
      "Requirement already satisfied: idna<4,>=2.5 in c:\\users\\samsung\\anaconda3\\lib\\site-packages (from requests->yahoo_fin) (3.3)\n",
      "Requirement already satisfied: certifi>=2017.4.17 in c:\\users\\samsung\\anaconda3\\lib\\site-packages (from requests->yahoo_fin) (2021.10.8)\n",
      "Requirement already satisfied: pyppeteer>=0.0.14 in c:\\users\\samsung\\anaconda3\\lib\\site-packages (from requests-html->yahoo_fin) (1.0.2)\n",
      "Requirement already satisfied: w3lib in c:\\users\\samsung\\anaconda3\\lib\\site-packages (from requests-html->yahoo_fin) (1.21.0)\n",
      "Requirement already satisfied: pyquery in c:\\users\\samsung\\anaconda3\\lib\\site-packages (from requests-html->yahoo_fin) (2.0.0)\n",
      "Requirement already satisfied: bs4 in c:\\users\\samsung\\anaconda3\\lib\\site-packages (from requests-html->yahoo_fin) (0.0.1)\n",
      "Requirement already satisfied: parse in c:\\users\\samsung\\anaconda3\\lib\\site-packages (from requests-html->yahoo_fin) (1.19.1)\n",
      "Requirement already satisfied: fake-useragent in c:\\users\\samsung\\anaconda3\\lib\\site-packages (from requests-html->yahoo_fin) (1.1.3)\n",
      "Requirement already satisfied: importlib-metadata>=1.4 in c:\\users\\samsung\\anaconda3\\lib\\site-packages (from pyppeteer>=0.0.14->requests-html->yahoo_fin) (4.11.3)\n",
      "Requirement already satisfied: websockets<11.0,>=10.0 in c:\\users\\samsung\\anaconda3\\lib\\site-packages (from pyppeteer>=0.0.14->requests-html->yahoo_fin) (10.4)\n",
      "Requirement already satisfied: tqdm<5.0.0,>=4.42.1 in c:\\users\\samsung\\anaconda3\\lib\\site-packages (from pyppeteer>=0.0.14->requests-html->yahoo_fin) (4.64.0)\n",
      "Requirement already satisfied: appdirs<2.0.0,>=1.4.3 in c:\\users\\samsung\\anaconda3\\lib\\site-packages (from pyppeteer>=0.0.14->requests-html->yahoo_fin) (1.4.4)\n",
      "Requirement already satisfied: pyee<9.0.0,>=8.1.0 in c:\\users\\samsung\\anaconda3\\lib\\site-packages (from pyppeteer>=0.0.14->requests-html->yahoo_fin) (8.2.2)\n",
      "Requirement already satisfied: zipp>=0.5 in c:\\users\\samsung\\anaconda3\\lib\\site-packages (from importlib-metadata>=1.4->pyppeteer>=0.0.14->requests-html->yahoo_fin) (3.7.0)\n",
      "Requirement already satisfied: colorama in c:\\users\\samsung\\anaconda3\\lib\\site-packages (from tqdm<5.0.0,>=4.42.1->pyppeteer>=0.0.14->requests-html->yahoo_fin) (0.4.4)\n",
      "Requirement already satisfied: beautifulsoup4 in c:\\users\\samsung\\anaconda3\\lib\\site-packages (from bs4->requests-html->yahoo_fin) (4.11.1)\n",
      "Requirement already satisfied: soupsieve>1.2 in c:\\users\\samsung\\anaconda3\\lib\\site-packages (from beautifulsoup4->bs4->requests-html->yahoo_fin) (2.3.1)\n",
      "Requirement already satisfied: importlib-resources>=5.0 in c:\\users\\samsung\\anaconda3\\lib\\site-packages (from fake-useragent->requests-html->yahoo_fin) (6.0.0)\n",
      "Requirement already satisfied: cssselect>=1.2.0 in c:\\users\\samsung\\anaconda3\\lib\\site-packages (from pyquery->requests-html->yahoo_fin) (1.2.0)\n",
      "Requirement already satisfied: lxml>=2.1 in c:\\users\\samsung\\anaconda3\\lib\\site-packages (from pyquery->requests-html->yahoo_fin) (4.9.2)\n"
     ]
    }
   ],
   "source": [
    "!pip install pandas_datareader\n",
    "!pip install yfinance\n",
    "!pip install --upgrade yfinance #로드가 안 될 경우 업그레이드가 필요\n",
    "!pip install yahoo_fin"
   ]
  },
  {
   "cell_type": "markdown",
   "id": "84f42747",
   "metadata": {},
   "source": [
    "# 라이브러리 import "
   ]
  },
  {
   "cell_type": "code",
   "execution_count": 2,
   "id": "c90155cd",
   "metadata": {},
   "outputs": [],
   "source": [
    "import yfinance as yf\n",
    "from yahoo_fin.stock_info import get_data\n",
    "import yahoo_fin.stock_info as si"
   ]
  },
  {
   "cell_type": "markdown",
   "id": "0ad2b252",
   "metadata": {},
   "source": [
    "# 각 정보 가져오는 코드"
   ]
  },
  {
   "cell_type": "markdown",
   "id": "fcbcc48f",
   "metadata": {},
   "source": [
    "## si.tickers\n",
    "- 각 지수에 편입된 티커명을 가져올 수 있음.\n",
    "1. si.tickers_dow(): 다우존스 지수에 편입된 종목의 티커를 가져옴.\n",
    "2. si.tickers_nasdaq(): 나스닥 지수에 편입된 종목의 티커를 가져옴.\n",
    "3. si.tickers_sp500(): S&P500 지수에 편입된 종목의 티커를 가져옴.\n",
    "4. si.tickers_other(): 그 외 종목의 티커를 가져옴."
   ]
  },
  {
   "cell_type": "code",
   "execution_count": 3,
   "id": "ab8109e7",
   "metadata": {},
   "outputs": [
    {
     "data": {
      "text/plain": [
       "30"
      ]
     },
     "execution_count": 3,
     "metadata": {},
     "output_type": "execute_result"
    }
   ],
   "source": [
    "len(si.tickers_dow())"
   ]
  },
  {
   "cell_type": "code",
   "execution_count": 4,
   "id": "129724cb",
   "metadata": {},
   "outputs": [
    {
     "data": {
      "text/plain": [
       "6174"
      ]
     },
     "execution_count": 4,
     "metadata": {},
     "output_type": "execute_result"
    }
   ],
   "source": [
    "len(si.tickers_other())"
   ]
  },
  {
   "cell_type": "code",
   "execution_count": 5,
   "id": "58f96713",
   "metadata": {},
   "outputs": [
    {
     "data": {
      "text/plain": [
       "5181"
      ]
     },
     "execution_count": 5,
     "metadata": {},
     "output_type": "execute_result"
    }
   ],
   "source": [
    "len(si.tickers_nasdaq())"
   ]
  },
  {
   "cell_type": "code",
   "execution_count": 6,
   "id": "ab6769b0",
   "metadata": {},
   "outputs": [
    {
     "data": {
      "text/plain": [
       "503"
      ]
     },
     "execution_count": 6,
     "metadata": {},
     "output_type": "execute_result"
    }
   ],
   "source": [
    "len(si.tickers_sp500())"
   ]
  },
  {
   "cell_type": "markdown",
   "id": "dba9759d",
   "metadata": {},
   "source": [
    "## yf.Ticker(티커명).info\n",
    "- 티커 기준으로 현재 회사의 정보 및 재무 정보 등 전반적인 정보에 대한 요약 정보를 제공함."
   ]
  },
  {
   "cell_type": "code",
   "execution_count": 10,
   "id": "5abd69c1",
   "metadata": {},
   "outputs": [
    {
     "data": {
      "text/plain": [
       "25.49199"
      ]
     },
     "execution_count": 10,
     "metadata": {},
     "output_type": "execute_result"
    }
   ],
   "source": [
    "yf.Ticker('AAPL').info['52WeekChange']"
   ]
  },
  {
   "cell_type": "code",
   "execution_count": 13,
   "id": "0cNThEt1xEgj",
   "metadata": {
    "colab": {
     "base_uri": "https://localhost:8080/",
     "height": 342
    },
    "executionInfo": {
     "elapsed": 6,
     "status": "error",
     "timestamp": 1689664089159,
     "user": {
      "displayName": "염제원",
      "userId": "04388192876120538569"
     },
     "user_tz": -540
    },
    "id": "0cNThEt1xEgj",
    "outputId": "315092f0-32c7-4c66-fbd5-635e4775b11a"
   },
   "outputs": [
    {
     "data": {
      "text/plain": [
       "{'address1': 'One Apple Park Way',\n",
       " 'city': 'Cupertino',\n",
       " 'state': 'CA',\n",
       " 'zip': '95014',\n",
       " 'country': 'United States',\n",
       " 'phone': '408 996 1010',\n",
       " 'website': 'https://www.apple.com',\n",
       " 'industry': 'Consumer Electronics',\n",
       " 'industryDisp': 'Consumer Electronics',\n",
       " 'sector': 'Technology',\n",
       " 'longBusinessSummary': 'Apple Inc. designs, manufactures, and markets smartphones, personal computers, tablets, wearables, and accessories worldwide. The company offers iPhone, a line of smartphones; Mac, a line of personal computers; iPad, a line of multi-purpose tablets; and wearables, home, and accessories comprising AirPods, Apple TV, Apple Watch, Beats products, and HomePod. It also provides AppleCare support and cloud services; and operates various platforms, including the App Store that allow customers to discover and download applications and digital content, such as books, music, video, games, and podcasts. In addition, the company offers various services, such as Apple Arcade, a game subscription service; Apple Fitness+, a personalized fitness service; Apple Music, which offers users a curated listening experience with on-demand radio stations; Apple News+, a subscription news and magazine service; Apple TV+, which offers exclusive original content; Apple Card, a co-branded credit card; and Apple Pay, a cashless payment service, as well as licenses its intellectual property. The company serves consumers, and small and mid-sized businesses; and the education, enterprise, and government markets. It distributes third-party applications for its products through the App Store. The company also sells its products through its retail and online stores, and direct sales force; and third-party cellular network carriers, wholesalers, retailers, and resellers. Apple Inc. was incorporated in 1977 and is headquartered in Cupertino, California.',\n",
       " 'fullTimeEmployees': 164000,\n",
       " 'companyOfficers': [{'maxAge': 1,\n",
       "   'name': 'Mr. Timothy D. Cook',\n",
       "   'age': 61,\n",
       "   'title': 'CEO & Director',\n",
       "   'yearBorn': 1961,\n",
       "   'fiscalYear': 2022,\n",
       "   'totalPay': 16425933,\n",
       "   'exercisedValue': 0,\n",
       "   'unexercisedValue': 0},\n",
       "  {'maxAge': 1,\n",
       "   'name': 'Mr. Luca  Maestri',\n",
       "   'age': 59,\n",
       "   'title': 'CFO & Sr. VP',\n",
       "   'yearBorn': 1963,\n",
       "   'fiscalYear': 2022,\n",
       "   'totalPay': 5019783,\n",
       "   'exercisedValue': 0,\n",
       "   'unexercisedValue': 0},\n",
       "  {'maxAge': 1,\n",
       "   'name': 'Mr. Jeffrey E. Williams',\n",
       "   'age': 58,\n",
       "   'title': 'Chief Operating Officer',\n",
       "   'yearBorn': 1964,\n",
       "   'fiscalYear': 2022,\n",
       "   'totalPay': 5018337,\n",
       "   'exercisedValue': 0,\n",
       "   'unexercisedValue': 0},\n",
       "  {'maxAge': 1,\n",
       "   'name': 'Ms. Katherine L. Adams',\n",
       "   'age': 58,\n",
       "   'title': 'Sr. VP, Gen. Counsel & Sec.',\n",
       "   'yearBorn': 1964,\n",
       "   'fiscalYear': 2022,\n",
       "   'totalPay': 5015208,\n",
       "   'exercisedValue': 0,\n",
       "   'unexercisedValue': 0},\n",
       "  {'maxAge': 1,\n",
       "   'name': \"Ms. Deirdre  O'Brien\",\n",
       "   'age': 55,\n",
       "   'title': 'Sr. VP of Retail',\n",
       "   'yearBorn': 1967,\n",
       "   'fiscalYear': 2022,\n",
       "   'totalPay': 5019783,\n",
       "   'exercisedValue': 0,\n",
       "   'unexercisedValue': 0},\n",
       "  {'maxAge': 1,\n",
       "   'name': 'Mr. Chris  Kondo',\n",
       "   'title': 'Sr. Director of Corp. Accounting',\n",
       "   'exercisedValue': 0,\n",
       "   'unexercisedValue': 0},\n",
       "  {'maxAge': 1,\n",
       "   'name': 'Mr. James  Wilson',\n",
       "   'title': 'Chief Technology Officer',\n",
       "   'exercisedValue': 0,\n",
       "   'unexercisedValue': 0},\n",
       "  {'maxAge': 1,\n",
       "   'name': 'Ms. Mary  Demby',\n",
       "   'title': 'Chief Information Officer',\n",
       "   'exercisedValue': 0,\n",
       "   'unexercisedValue': 0},\n",
       "  {'maxAge': 1,\n",
       "   'name': 'Ms. Nancy  Paxton',\n",
       "   'title': 'Sr. Director of Investor Relations & Treasury',\n",
       "   'exercisedValue': 0,\n",
       "   'unexercisedValue': 0},\n",
       "  {'maxAge': 1,\n",
       "   'name': 'Mr. Greg  Joswiak',\n",
       "   'title': 'Sr. VP of Worldwide Marketing',\n",
       "   'exercisedValue': 0,\n",
       "   'unexercisedValue': 0}],\n",
       " 'auditRisk': 4,\n",
       " 'boardRisk': 1,\n",
       " 'compensationRisk': 5,\n",
       " 'shareHolderRightsRisk': 1,\n",
       " 'overallRisk': 1,\n",
       " 'governanceEpochDate': 1688169600,\n",
       " 'compensationAsOfEpochDate': 1672444800,\n",
       " 'maxAge': 86400,\n",
       " 'priceHint': 2,\n",
       " 'previousClose': 193.13,\n",
       " 'open': 194.1,\n",
       " 'dayLow': 191.32,\n",
       " 'dayHigh': 194.97,\n",
       " 'regularMarketPreviousClose': 193.13,\n",
       " 'regularMarketOpen': 194.1,\n",
       " 'regularMarketDayLow': 191.32,\n",
       " 'regularMarketDayHigh': 194.97,\n",
       " 'dividendRate': 0.96,\n",
       " 'dividendYield': 0.005,\n",
       " 'exDividendDate': 1683849600,\n",
       " 'payoutRatio': 0.1559,\n",
       " 'fiveYearAvgDividendYield': 0.89,\n",
       " 'beta': 1.292349,\n",
       " 'trailingPE': 32.587437,\n",
       " 'forwardPE': 29.125948,\n",
       " 'volume': 71951683,\n",
       " 'regularMarketVolume': 71951683,\n",
       " 'averageVolume': 57671127,\n",
       " 'averageVolume10days': 56110700,\n",
       " 'averageDailyVolume10Day': 56110700,\n",
       " 'bid': 0.0,\n",
       " 'ask': 0.0,\n",
       " 'bidSize': 800,\n",
       " 'askSize': 3000,\n",
       " 'marketCap': 3018966695936,\n",
       " 'fiftyTwoWeekLow': 124.17,\n",
       " 'fiftyTwoWeekHigh': 198.23,\n",
       " 'priceToSalesTrailing12Months': 7.839537,\n",
       " 'fiftyDayAverage': 183.186,\n",
       " 'twoHundredDayAverage': 157.4725,\n",
       " 'trailingAnnualDividendRate': 0.92,\n",
       " 'trailingAnnualDividendYield': 0.0047636307,\n",
       " 'currency': 'USD',\n",
       " 'enterpriseValue': 3091427229696,\n",
       " 'profitMargins': 0.24493,\n",
       " 'floatShares': 15711872289,\n",
       " 'sharesOutstanding': 15728700416,\n",
       " 'sharesShort': 117870227,\n",
       " 'sharesShortPriorMonth': 117654782,\n",
       " 'sharesShortPreviousMonthDate': 1685491200,\n",
       " 'dateShortInterest': 1688083200,\n",
       " 'sharesPercentSharesOut': 0.0075,\n",
       " 'heldPercentInsiders': 0.00071000005,\n",
       " 'heldPercentInstitutions': 0.61232,\n",
       " 'shortRatio': 1.87,\n",
       " 'shortPercentOfFloat': 0.0075,\n",
       " 'impliedSharesOutstanding': 15728700416,\n",
       " 'bookValue': 3.953,\n",
       " 'priceToBook': 48.555527,\n",
       " 'lastFiscalYearEnd': 1663977600,\n",
       " 'nextFiscalYearEnd': 1695513600,\n",
       " 'mostRecentQuarter': 1680307200,\n",
       " 'earningsQuarterlyGrowth': -0.034,\n",
       " 'netIncomeToCommon': 94321000448,\n",
       " 'trailingEps': 5.89,\n",
       " 'forwardEps': 6.59,\n",
       " 'pegRatio': 4.11,\n",
       " 'lastSplitFactor': '4:1',\n",
       " 'lastSplitDate': 1598832000,\n",
       " 'enterpriseToRevenue': 8.028,\n",
       " 'enterpriseToEbitda': 24.974,\n",
       " '52WeekChange': 25.49199,\n",
       " 'SandP52WeekChange': 14.356518,\n",
       " 'lastDividendValue': 0.24,\n",
       " 'lastDividendDate': 1683849600,\n",
       " 'exchange': 'NMS',\n",
       " 'quoteType': 'EQUITY',\n",
       " 'symbol': 'AAPL',\n",
       " 'underlyingSymbol': 'AAPL',\n",
       " 'shortName': 'Apple Inc.',\n",
       " 'longName': 'Apple Inc.',\n",
       " 'firstTradeDateEpochUtc': 345479400,\n",
       " 'timeZoneFullName': 'America/New_York',\n",
       " 'timeZoneShortName': 'EDT',\n",
       " 'uuid': '8b10e4ae-9eeb-3684-921a-9ab27e4d87aa',\n",
       " 'messageBoardId': 'finmb_24937',\n",
       " 'gmtOffSetMilliseconds': -14400000,\n",
       " 'currentPrice': 191.94,\n",
       " 'targetHighPrice': 240.0,\n",
       " 'targetLowPrice': 140.0,\n",
       " 'targetMeanPrice': 191.16,\n",
       " 'targetMedianPrice': 190.0,\n",
       " 'recommendationMean': 2.0,\n",
       " 'recommendationKey': 'buy',\n",
       " 'numberOfAnalystOpinions': 39,\n",
       " 'totalCash': 55872000000,\n",
       " 'totalCashPerShare': 3.552,\n",
       " 'ebitda': 123788001280,\n",
       " 'totalDebt': 109614997504,\n",
       " 'quickRatio': 0.764,\n",
       " 'currentRatio': 0.94,\n",
       " 'totalRevenue': 385095008256,\n",
       " 'debtToEquity': 176.349,\n",
       " 'revenuePerShare': 24.116,\n",
       " 'returnOnAssets': 0.20559,\n",
       " 'returnOnEquity': 1.4560499,\n",
       " 'grossProfits': 170782000000,\n",
       " 'freeCashflow': 83796623360,\n",
       " 'operatingCashflow': 109583998976,\n",
       " 'earningsGrowth': 0.0,\n",
       " 'revenueGrowth': -0.025,\n",
       " 'grossMargins': 0.43181,\n",
       " 'ebitdaMargins': 0.32145,\n",
       " 'operatingMargins': 0.29163,\n",
       " 'financialCurrency': 'USD',\n",
       " 'trailingPegRatio': 2.6362}"
      ]
     },
     "execution_count": 13,
     "metadata": {},
     "output_type": "execute_result"
    }
   ],
   "source": [
    "yf.Ticker('AAPL').info"
   ]
  },
  {
   "cell_type": "markdown",
   "id": "4658b1e8",
   "metadata": {},
   "source": [
    "### 쓸만한 info key\n",
    "- zip: 미국의 경우 ZIP Code가 특정한 기준을 갖고 세워져 있어서 나름 의미가 있을 수도 있음.\n",
    "https://m.blog.naver.com/mysimcafe/220796946183\n",
    "- country: 국가명이 얼마나 나올진 몰라도 유의한 기준일 것으로 생각함\n",
    "- industry: 산업군은 유의함\n",
    "- sector: 섹터도 유의함\n",
    "- fullTimeEmployees: 풀타임 고용직의 인원 수. 조직 규모를 나타내는 주요한 팩터라고 생각\n",
    "- auditRisk: 감사 위험에 대한 내용. 유의할듯\n",
    "- boardRisk: 이사진 위험에 대한 내용.\n",
    "- compensationRisk: 보상 위험에 대한 내용.\n",
    "- shareHolderRIghtsRisk: 주주권리 위험에 대한 내용.\n",
    "- overallRisk: 종합 리스크 내용\n",
    "- dividendYield: 배당수익률 유의할듯\n",
    "- payoutRatio: 순이익/배당금임. 유의할듯.\n",
    "- fiveYearAvgDividedYield: 최근 5년 동안 평균 배당 수익률. 유의할듯.\n",
    "- beta: 시장 대비 변동성. 유의할듯.\n",
    "- trailingPE: PER. (과거 실제 이익 기준).\n",
    "- averageVolume: 평균 거래량. 높을수록 활발히 거래되는 인기많은 주식이라 볼 수 있을듯.\n",
    "- marketCap: 시가총액. 높을수록 규모가 큰 기업임.\n",
    "- currency: 거래되는 통화도 중요하기 때문에 필요하다 생각.\n",
    "- enterpriseValue: 기업 가치. 시가총액 + 총 부채 - 현금성 자산\n",
    "- profitMargins: 순이익/총매출, 당기순이익\n",
    "- heldPercentInsiders: 내부자 주식 보유 비율\n",
    "- heldPercentInstitutions: 기관투자자 주식 보유 비율\n",
    "- bookValue: 장부가치\n",
    "- priceToBook: PBR.\n",
    "- pegRatio: 주가 수익 비율 / 성장률\n",
    "- enterpriseToEbitda: EV/EBITDA\n",
    "- 52WeekChange:52주간 주식 수익률\n",
    "- recommendationMean: 주식 추천 평균 점수\n",
    "- recommendationKey: 주식 추천 등급\n",
    "- numberOfAnalystOpinions: 분석가 의견의 수\n",
    "- totalCash: 회사가 보유하고 있는 현금\n",
    "- ebitda: EBITDA\n",
    "- totalDebt: 회사 총 부채\n",
    "- quickRatio: 당좌비율\n",
    "- currentRatio: 유동비율\n",
    "- totalRevenue: 총 매출\n",
    "- returnOnAssets: ROA (자산 대비 수익률)\n",
    "- returnOnEquity: ROE (자본 대비 수익률)\n",
    "- grossProfits: 총 이익\n",
    "- freeCashflow: 잉여현금흐름\n",
    "- operatingCashflow: 영업현금흐름\n",
    "- earningsGrowth: 이익 성장률\n",
    "- revenueGrowth: 매출 성장률\n",
    "- grossMargins: 총 이익 마진\n",
    "- ebitdaMargins: EBITDA 마진\n",
    "- operatingMargins: 운영 이익 마진\n",
    "- trailingPegRatio: 과거 이익 기준 PEG 비율"
   ]
  },
  {
   "cell_type": "markdown",
   "id": "590d50f0",
   "metadata": {},
   "source": [
    "## si.get_quote_table(티커명, dict_result=True)\n",
    "- 티커 기준으로 현재 회사의 quote table을 가져올 수 있음. "
   ]
  },
  {
   "cell_type": "code",
   "execution_count": 14,
   "id": "8cad84d8",
   "metadata": {},
   "outputs": [
    {
     "name": "stderr",
     "output_type": "stream",
     "text": [
      "C:\\Users\\SAMSUNG\\anaconda3\\lib\\site-packages\\yahoo_fin\\stock_info.py:295: FutureWarning: The frame.append method is deprecated and will be removed from pandas in a future version. Use pandas.concat instead.\n",
      "  data = tables[0].append(tables[1])\n",
      "C:\\Users\\SAMSUNG\\anaconda3\\lib\\site-packages\\yahoo_fin\\stock_info.py:302: FutureWarning: The frame.append method is deprecated and will be removed from pandas in a future version. Use pandas.concat instead.\n",
      "  data = data.append(quote_price)\n"
     ]
    },
    {
     "data": {
      "text/plain": [
       "{'1y Target Est': 191.16,\n",
       " '52 Week Range': '124.17 - 198.23',\n",
       " 'Ask': '0.00 x 3000',\n",
       " 'Avg. Volume': 57671127.0,\n",
       " 'Beta (5Y Monthly)': 1.29,\n",
       " 'Bid': '0.00 x 800',\n",
       " \"Day's Range\": '191.32 - 194.97',\n",
       " 'EPS (TTM)': 5.89,\n",
       " 'Earnings Date': 'Aug 03, 2023',\n",
       " 'Ex-Dividend Date': 'May 12, 2023',\n",
       " 'Forward Dividend & Yield': '0.96 (0.50%)',\n",
       " 'Market Cap': '3.019T',\n",
       " 'Open': 194.1,\n",
       " 'PE Ratio (TTM)': 32.59,\n",
       " 'Previous Close': 193.13,\n",
       " 'Quote Price': 191.94000244140625,\n",
       " 'Volume': 71951683.0}"
      ]
     },
     "execution_count": 14,
     "metadata": {},
     "output_type": "execute_result"
    }
   ],
   "source": [
    "si.get_quote_table(\"aapl\", dict_result=True)"
   ]
  },
  {
   "cell_type": "markdown",
   "id": "e55361d4",
   "metadata": {},
   "source": [
    "## get_data(티커명)\n",
    "- 티커명에 해당하는 회사의 시계열 종가 및 거래량 정보를 가져올 수 있음."
   ]
  },
  {
   "cell_type": "code",
   "execution_count": 17,
   "id": "3010bfb1",
   "metadata": {},
   "outputs": [
    {
     "data": {
      "text/html": [
       "<div>\n",
       "<style scoped>\n",
       "    .dataframe tbody tr th:only-of-type {\n",
       "        vertical-align: middle;\n",
       "    }\n",
       "\n",
       "    .dataframe tbody tr th {\n",
       "        vertical-align: top;\n",
       "    }\n",
       "\n",
       "    .dataframe thead th {\n",
       "        text-align: right;\n",
       "    }\n",
       "</style>\n",
       "<table border=\"1\" class=\"dataframe\">\n",
       "  <thead>\n",
       "    <tr style=\"text-align: right;\">\n",
       "      <th></th>\n",
       "      <th>open</th>\n",
       "      <th>high</th>\n",
       "      <th>low</th>\n",
       "      <th>close</th>\n",
       "      <th>adjclose</th>\n",
       "      <th>volume</th>\n",
       "      <th>ticker</th>\n",
       "    </tr>\n",
       "  </thead>\n",
       "  <tbody>\n",
       "    <tr>\n",
       "      <th>1980-12-12</th>\n",
       "      <td>0.128348</td>\n",
       "      <td>0.128906</td>\n",
       "      <td>0.128348</td>\n",
       "      <td>0.128348</td>\n",
       "      <td>0.099584</td>\n",
       "      <td>469033600</td>\n",
       "      <td>AAPL</td>\n",
       "    </tr>\n",
       "    <tr>\n",
       "      <th>1980-12-15</th>\n",
       "      <td>0.122210</td>\n",
       "      <td>0.122210</td>\n",
       "      <td>0.121652</td>\n",
       "      <td>0.121652</td>\n",
       "      <td>0.094388</td>\n",
       "      <td>175884800</td>\n",
       "      <td>AAPL</td>\n",
       "    </tr>\n",
       "    <tr>\n",
       "      <th>1980-12-16</th>\n",
       "      <td>0.113281</td>\n",
       "      <td>0.113281</td>\n",
       "      <td>0.112723</td>\n",
       "      <td>0.112723</td>\n",
       "      <td>0.087461</td>\n",
       "      <td>105728000</td>\n",
       "      <td>AAPL</td>\n",
       "    </tr>\n",
       "    <tr>\n",
       "      <th>1980-12-17</th>\n",
       "      <td>0.115513</td>\n",
       "      <td>0.116071</td>\n",
       "      <td>0.115513</td>\n",
       "      <td>0.115513</td>\n",
       "      <td>0.089625</td>\n",
       "      <td>86441600</td>\n",
       "      <td>AAPL</td>\n",
       "    </tr>\n",
       "    <tr>\n",
       "      <th>1980-12-18</th>\n",
       "      <td>0.118862</td>\n",
       "      <td>0.119420</td>\n",
       "      <td>0.118862</td>\n",
       "      <td>0.118862</td>\n",
       "      <td>0.092224</td>\n",
       "      <td>73449600</td>\n",
       "      <td>AAPL</td>\n",
       "    </tr>\n",
       "    <tr>\n",
       "      <th>...</th>\n",
       "      <td>...</td>\n",
       "      <td>...</td>\n",
       "      <td>...</td>\n",
       "      <td>...</td>\n",
       "      <td>...</td>\n",
       "      <td>...</td>\n",
       "      <td>...</td>\n",
       "    </tr>\n",
       "    <tr>\n",
       "      <th>2023-07-17</th>\n",
       "      <td>191.899994</td>\n",
       "      <td>194.320007</td>\n",
       "      <td>191.809998</td>\n",
       "      <td>193.990005</td>\n",
       "      <td>193.990005</td>\n",
       "      <td>50520200</td>\n",
       "      <td>AAPL</td>\n",
       "    </tr>\n",
       "    <tr>\n",
       "      <th>2023-07-18</th>\n",
       "      <td>193.350006</td>\n",
       "      <td>194.330002</td>\n",
       "      <td>192.419998</td>\n",
       "      <td>193.729996</td>\n",
       "      <td>193.729996</td>\n",
       "      <td>48353800</td>\n",
       "      <td>AAPL</td>\n",
       "    </tr>\n",
       "    <tr>\n",
       "      <th>2023-07-19</th>\n",
       "      <td>193.100006</td>\n",
       "      <td>198.229996</td>\n",
       "      <td>192.649994</td>\n",
       "      <td>195.100006</td>\n",
       "      <td>195.100006</td>\n",
       "      <td>80507300</td>\n",
       "      <td>AAPL</td>\n",
       "    </tr>\n",
       "    <tr>\n",
       "      <th>2023-07-20</th>\n",
       "      <td>195.089996</td>\n",
       "      <td>196.470001</td>\n",
       "      <td>192.500000</td>\n",
       "      <td>193.130005</td>\n",
       "      <td>193.130005</td>\n",
       "      <td>59581200</td>\n",
       "      <td>AAPL</td>\n",
       "    </tr>\n",
       "    <tr>\n",
       "      <th>2023-07-21</th>\n",
       "      <td>194.100006</td>\n",
       "      <td>194.970001</td>\n",
       "      <td>191.229996</td>\n",
       "      <td>191.940002</td>\n",
       "      <td>191.940002</td>\n",
       "      <td>71917800</td>\n",
       "      <td>AAPL</td>\n",
       "    </tr>\n",
       "  </tbody>\n",
       "</table>\n",
       "<p>10741 rows × 7 columns</p>\n",
       "</div>"
      ],
      "text/plain": [
       "                  open        high         low       close    adjclose  \\\n",
       "1980-12-12    0.128348    0.128906    0.128348    0.128348    0.099584   \n",
       "1980-12-15    0.122210    0.122210    0.121652    0.121652    0.094388   \n",
       "1980-12-16    0.113281    0.113281    0.112723    0.112723    0.087461   \n",
       "1980-12-17    0.115513    0.116071    0.115513    0.115513    0.089625   \n",
       "1980-12-18    0.118862    0.119420    0.118862    0.118862    0.092224   \n",
       "...                ...         ...         ...         ...         ...   \n",
       "2023-07-17  191.899994  194.320007  191.809998  193.990005  193.990005   \n",
       "2023-07-18  193.350006  194.330002  192.419998  193.729996  193.729996   \n",
       "2023-07-19  193.100006  198.229996  192.649994  195.100006  195.100006   \n",
       "2023-07-20  195.089996  196.470001  192.500000  193.130005  193.130005   \n",
       "2023-07-21  194.100006  194.970001  191.229996  191.940002  191.940002   \n",
       "\n",
       "               volume ticker  \n",
       "1980-12-12  469033600   AAPL  \n",
       "1980-12-15  175884800   AAPL  \n",
       "1980-12-16  105728000   AAPL  \n",
       "1980-12-17   86441600   AAPL  \n",
       "1980-12-18   73449600   AAPL  \n",
       "...               ...    ...  \n",
       "2023-07-17   50520200   AAPL  \n",
       "2023-07-18   48353800   AAPL  \n",
       "2023-07-19   80507300   AAPL  \n",
       "2023-07-20   59581200   AAPL  \n",
       "2023-07-21   71917800   AAPL  \n",
       "\n",
       "[10741 rows x 7 columns]"
      ]
     },
     "execution_count": 17,
     "metadata": {},
     "output_type": "execute_result"
    }
   ],
   "source": [
    "get_data(\"AAPL\")"
   ]
  },
  {
   "cell_type": "markdown",
   "id": "95945f6a",
   "metadata": {},
   "source": [
    "## si.get_stats_valuation(티커명)\n",
    "- 티커명에 해당하는 회사의 밸류에이션 정보를 가져올 수 있음."
   ]
  },
  {
   "cell_type": "code",
   "execution_count": 18,
   "id": "420ea645",
   "metadata": {},
   "outputs": [
    {
     "data": {
      "text/html": [
       "<div>\n",
       "<style scoped>\n",
       "    .dataframe tbody tr th:only-of-type {\n",
       "        vertical-align: middle;\n",
       "    }\n",
       "\n",
       "    .dataframe tbody tr th {\n",
       "        vertical-align: top;\n",
       "    }\n",
       "\n",
       "    .dataframe thead th {\n",
       "        text-align: right;\n",
       "    }\n",
       "</style>\n",
       "<table border=\"1\" class=\"dataframe\">\n",
       "  <thead>\n",
       "    <tr style=\"text-align: right;\">\n",
       "      <th></th>\n",
       "      <th>0</th>\n",
       "      <th>1</th>\n",
       "    </tr>\n",
       "  </thead>\n",
       "  <tbody>\n",
       "    <tr>\n",
       "      <th>0</th>\n",
       "      <td>Market Cap (intraday)</td>\n",
       "      <td>3.02T</td>\n",
       "    </tr>\n",
       "    <tr>\n",
       "      <th>1</th>\n",
       "      <td>Enterprise Value</td>\n",
       "      <td>3.07T</td>\n",
       "    </tr>\n",
       "    <tr>\n",
       "      <th>2</th>\n",
       "      <td>Trailing P/E</td>\n",
       "      <td>32.53</td>\n",
       "    </tr>\n",
       "    <tr>\n",
       "      <th>3</th>\n",
       "      <td>Forward P/E</td>\n",
       "      <td>29.15</td>\n",
       "    </tr>\n",
       "    <tr>\n",
       "      <th>4</th>\n",
       "      <td>PEG Ratio (5 yr expected)</td>\n",
       "      <td>2.64</td>\n",
       "    </tr>\n",
       "    <tr>\n",
       "      <th>5</th>\n",
       "      <td>Price/Sales (ttm)</td>\n",
       "      <td>8.00</td>\n",
       "    </tr>\n",
       "    <tr>\n",
       "      <th>6</th>\n",
       "      <td>Price/Book (mrq)</td>\n",
       "      <td>48.57</td>\n",
       "    </tr>\n",
       "    <tr>\n",
       "      <th>7</th>\n",
       "      <td>Enterprise Value/Revenue</td>\n",
       "      <td>7.98</td>\n",
       "    </tr>\n",
       "    <tr>\n",
       "      <th>8</th>\n",
       "      <td>Enterprise Value/EBITDA</td>\n",
       "      <td>24.25</td>\n",
       "    </tr>\n",
       "  </tbody>\n",
       "</table>\n",
       "</div>"
      ],
      "text/plain": [
       "                           0      1\n",
       "0      Market Cap (intraday)  3.02T\n",
       "1           Enterprise Value  3.07T\n",
       "2               Trailing P/E  32.53\n",
       "3                Forward P/E  29.15\n",
       "4  PEG Ratio (5 yr expected)   2.64\n",
       "5          Price/Sales (ttm)   8.00\n",
       "6           Price/Book (mrq)  48.57\n",
       "7   Enterprise Value/Revenue   7.98\n",
       "8    Enterprise Value/EBITDA  24.25"
      ]
     },
     "execution_count": 18,
     "metadata": {},
     "output_type": "execute_result"
    }
   ],
   "source": [
    "si.get_stats_valuation(\"aapl\")"
   ]
  }
 ],
 "metadata": {
  "colab": {
   "provenance": []
  },
  "kernelspec": {
   "display_name": "Python 3 (ipykernel)",
   "language": "python",
   "name": "python3"
  },
  "language_info": {
   "codemirror_mode": {
    "name": "ipython",
    "version": 3
   },
   "file_extension": ".py",
   "mimetype": "text/x-python",
   "name": "python",
   "nbconvert_exporter": "python",
   "pygments_lexer": "ipython3",
   "version": "3.9.12"
  }
 },
 "nbformat": 4,
 "nbformat_minor": 5
}
