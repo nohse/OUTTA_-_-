{
 "cells": [
  {
   "cell_type": "markdown",
   "id": "5187c4e1",
   "metadata": {},
   "source": [
    "# 라이브러리 설치"
   ]
  },
  {
   "cell_type": "code",
   "execution_count": 1,
   "id": "c2b7084e",
   "metadata": {},
   "outputs": [
    {
     "name": "stdout",
     "output_type": "stream",
     "text": [
      "Requirement already satisfied: selenium in c:\\users\\water\\appdata\\local\\programs\\python\\python311\\lib\\site-packages (4.10.0)\n",
      "Requirement already satisfied: urllib3[socks]<3,>=1.26 in c:\\users\\water\\appdata\\local\\programs\\python\\python311\\lib\\site-packages (from selenium) (2.0.4)\n",
      "Requirement already satisfied: trio~=0.17 in c:\\users\\water\\appdata\\local\\programs\\python\\python311\\lib\\site-packages (from selenium) (0.22.2)\n",
      "Requirement already satisfied: trio-websocket~=0.9 in c:\\users\\water\\appdata\\local\\programs\\python\\python311\\lib\\site-packages (from selenium) (0.10.3)\n",
      "Requirement already satisfied: certifi>=2021.10.8 in c:\\users\\water\\appdata\\local\\programs\\python\\python311\\lib\\site-packages (from selenium) (2023.5.7)\n",
      "Requirement already satisfied: attrs>=20.1.0 in c:\\users\\water\\appdata\\local\\programs\\python\\python311\\lib\\site-packages (from trio~=0.17->selenium) (23.1.0)\n",
      "Requirement already satisfied: sortedcontainers in c:\\users\\water\\appdata\\local\\programs\\python\\python311\\lib\\site-packages (from trio~=0.17->selenium) (2.4.0)\n",
      "Requirement already satisfied: idna in c:\\users\\water\\appdata\\local\\programs\\python\\python311\\lib\\site-packages (from trio~=0.17->selenium) (3.4)\n",
      "Requirement already satisfied: outcome in c:\\users\\water\\appdata\\local\\programs\\python\\python311\\lib\\site-packages (from trio~=0.17->selenium) (1.2.0)\n",
      "Requirement already satisfied: sniffio in c:\\users\\water\\appdata\\local\\programs\\python\\python311\\lib\\site-packages (from trio~=0.17->selenium) (1.3.0)\n",
      "Requirement already satisfied: cffi>=1.14 in c:\\users\\water\\appdata\\local\\programs\\python\\python311\\lib\\site-packages (from trio~=0.17->selenium) (1.15.1)\n",
      "Requirement already satisfied: exceptiongroup in c:\\users\\water\\appdata\\local\\programs\\python\\python311\\lib\\site-packages (from trio-websocket~=0.9->selenium) (1.1.2)\n",
      "Requirement already satisfied: wsproto>=0.14 in c:\\users\\water\\appdata\\local\\programs\\python\\python311\\lib\\site-packages (from trio-websocket~=0.9->selenium) (1.2.0)\n",
      "Requirement already satisfied: pysocks!=1.5.7,<2.0,>=1.5.6 in c:\\users\\water\\appdata\\local\\programs\\python\\python311\\lib\\site-packages (from urllib3[socks]<3,>=1.26->selenium) (1.7.1)\n",
      "Requirement already satisfied: pycparser in c:\\users\\water\\appdata\\local\\programs\\python\\python311\\lib\\site-packages (from cffi>=1.14->trio~=0.17->selenium) (2.21)\n",
      "Requirement already satisfied: h11<1,>=0.9.0 in c:\\users\\water\\appdata\\local\\programs\\python\\python311\\lib\\site-packages (from wsproto>=0.14->trio-websocket~=0.9->selenium) (0.14.0)\n"
     ]
    },
    {
     "name": "stderr",
     "output_type": "stream",
     "text": [
      "\n",
      "[notice] A new release of pip is available: 23.1.2 -> 23.2\n",
      "[notice] To update, run: python.exe -m pip install --upgrade pip\n"
     ]
    }
   ],
   "source": [
    "!pip install selenium"
   ]
  },
  {
   "cell_type": "markdown",
   "id": "42526e7d",
   "metadata": {},
   "source": [
    "# Selenium 연습"
   ]
  },
  {
   "cell_type": "markdown",
   "id": "b363551b",
   "metadata": {},
   "source": [
    "## By.Name 구문"
   ]
  },
  {
   "cell_type": "code",
   "execution_count": 3,
   "id": "aff26984",
   "metadata": {},
   "outputs": [],
   "source": [
    "from selenium import webdriver\n",
    "from selenium.webdriver.common.by import By\n",
    "from selenium.webdriver.common.keys import Keys\n",
    "from selenium.webdriver.chrome.service import Service\n",
    "\n",
    "# ChromeDriver의 경로를 지정하고, WebDriver 인스턴스를 생성합니다.\n",
    "driver = webdriver.Chrome()\n",
    "\n",
    "# 지마켓의 메인 페이지를 엽니다.\n",
    "driver.get('https://www.gmarket.co.kr')\n",
    "\n",
    "# 검색어를 입력할 수 있는 input 요소를 찾습니다.\n",
    "search_box = driver.find_element(By.NAME, 'keyword')\n",
    "\n",
    "# 검색어를 입력하고, Enter 키를 눌러 검색을 실행합니다.\n",
    "search_box.send_keys('손풍기')\n",
    "search_box.send_keys(Keys.RETURN)\n",
    "\n",
    "# 작업이 끝나면 WebDriver를 종료하여 브라우저 창을 닫습니다.\n",
    "driver.quit()"
   ]
  },
  {
   "cell_type": "markdown",
   "id": "f7e91211",
   "metadata": {},
   "source": [
    "## By.CSS_SELECTOR 구문"
   ]
  },
  {
   "cell_type": "code",
   "execution_count": 4,
   "id": "d0ba22cd",
   "metadata": {},
   "outputs": [],
   "source": [
    "from selenium import webdriver\n",
    "from selenium.webdriver.common.by import By\n",
    "from selenium.webdriver.common.keys import Keys\n",
    "from selenium.webdriver.chrome.service import Service\n",
    "\n",
    "title_list = list()\n",
    "\n",
    "# ChromeDriver의 경로를 지정하고, WebDriver 인스턴스를 생성합니다.\n",
    "driver = webdriver.Chrome()\n",
    "\n",
    "# 지마켓의 베스트 페이지를 엽니다.\n",
    "driver.get('https://www.gmarket.co.kr/n/best')\n",
    "\n",
    "# 상품명을 입력 받아 item_list 변수에 저장합니다.\n",
    "item_list = driver.find_elements(By.CSS_SELECTOR, 'a.itemname')\n",
    "\n",
    "for item in item_list:\n",
    "    title_list.append(item.text)\n",
    "\n",
    "driver.quit()"
   ]
  },
  {
   "cell_type": "code",
   "execution_count": 5,
   "id": "4704868d",
   "metadata": {},
   "outputs": [
    {
     "name": "stdout",
     "output_type": "stream",
     "text": [
      "['스위트 아이스망고스틱 50g x 40봉', '(깨비농원)고당도 하우스귤 2.5kg 로얄과(S-M)', '[신세계푸드]신세계푸드 직수입 워싱턴 생체리 10Row 1.5kg', '[메가박스](유니버스클럽 전용) 메가박스 일반예매권 2D-주중/주말', '[티젠]티젠 콤부차 30스틱X2박스 택2', '[요즘에]무료반품/파격할인(쿠폰가 16920원)여름세일 편한 쿨링스판/여름청바지 판매1위/와이드 쿨맥스라이트데님', '[매일유업]어메이징 오트 언스위트 190ml 24팩 주말반짝특가', '[농심]한정수량특가 올리브 짜파게티 5입X8개(40개)', '[디펜드]최종가17910원/디펜드 맘스 안심팬티 8매x4팩/산모전용팬티 의약외품 인증', '1+1 간편세척 부드러운 애니멀 규조토 발매트', '[오롯담]오롯담 나주곰탕 700g 12팩', '10%쿠폰 (1+1) 남녀공용 스티치 5부 트레이닝 팬츠', '[구글플레이]기프트코드 10만원 / 구글 기프트카드', '[CGV](CGV) G마켓 예매권(금요특가_7/21)', '[피코크]피코크 떡갈비 450gx6팩 (신세계푸드 중복 쿠폰 할인)', '[오휘](신세계강남점)[타임딜]미라클토닝 글로우 세럼 20ML 1+1(정품리필증정)', '[피코크]조선호텔 포기김치 8kg(신세계푸드 중복쿠폰 할인)', '시즌오프가 1+1 남여공용 비침없는 면 프린팅 티셔츠 장당 3750원 딱 오늘만 가능한 가격', '1+1 늘어나는 벨트 남여공용 캐쥬얼 데일리', '[입큰]입큰 12.5 퍼퓸 파우더 썬팩트 (본품)+사은품증정 /SPF50+ PA+++자외선차단', '[프로월드컵]PWX 남/여 쿨티셔츠 라운드 반팔 아이스티셔츠 메쉬기능성', '[순수크린]순수크린 과탄산소다 5kg 버킷+스푼1개외 베이킹 모음전', '레드자몽 대과 12과 (개당320g내외) 남아공 동일옵션 2개 구매시 3과추가', '[리코셀](10%추가쿠폰)슈퍼 딥 클린 폼 클렌저 220ml 4개 병풀+약쑥+어성초 저자극 시카 약알칼리 휩 클렌징 대용량', '[요즘에]무료반품/주말특가(10%쿠폰:14.850원)쿨맥스/연청/청바지 판매1위/하비고민 덜어주는 데님/스테디치즈데님', '[구글플레이]기프트코드 5만원 / 구글 기프트카드', '아삭아삭 사과 실중량4kg 썸머킹 /17~23과 중소과', '[지방시](신세계강남점)[선물포장] 로즈 퍼펙토 립 밤 세트 (+향수 미니어처 8ml+파데 샤쉐 1ML 2개 증정)', '[과일나라]진주펄 염색약 3개+사은품 / 12종 컬러 염색 새치 탈색약 / 8900원 단하루 행사', '[CGV](첫구매/웰컴백 쿠폰최종가 5 000원) CGV 미션임파서블7 전용예매권', '[붕어빵]패밀리 물티슈 소프트 플레인 대용량 캡 100매 x 10팩 50gms', '무료반품 10% 레코브 한정수량+썸머세일 특가 원피스/블라우스/자켓/점퍼/패딩/팬츠', '[탑텐](롯데백화점)아동)라운지웨어 반소매민소매 18종 택1 MKC2UI3002', '[롯데햄]롯데 의성마늘프랑크x6개+녹찐치즈x6개+매콤땡초x6개', '[맥퀸뉴욕]1+1 마이크로 핏 피니쉬 파우더 /유분기 컨트롤', '최초2만원인하 더엣지 23SS 뉴 버튼카라니트 4종', '[더푸룸]변기세정제 45g 40개 (특가행사)', '[KFC](KFC) 중복기념파티팩', '[피자헛](피자헛) 립스테이크 리치골드L + 벌집감자 + 콜라 1.25L', '약단밤 1kg(최상급)/칼집밤/쿠폰가9360원/무료배송', '[동원에프앤비]동원 자연산골뱅이 300g x 5개 +제로음료6병 랜덤증정', '경북영천 GAP인증 딱딱이 털복숭아 소과 4kg 19-21과 / 쿠폰가 17520', '[이마트24](클럽전용) 이마트24 1만원 금액권', '[CGV](CGV) 미션임파서블7 전용 예매권-07월 17일부터 구매/사용가능', '[마스터바이옴]지노마스터 착 40일분 리스펙타 질건강유산균 + 20일분 추가 증정 / 유통기한 임박 2023.09.30', '[농협안심한우]쿠폰가 9160원 4팩 무료배송) 농협안심한우 1등급 암소한우 냉장 불고기 국거리 400g', '[버거킹](버거킹) 와퍼+불고기와퍼주니어+콜라R+콜라R', '[숨37˚](신세계강남점)[타임딜]시크릿 에센스 45ml 기획세트', '[겔업]겔업 고농축 액체세제 2.5L x 4개 세탁세제 총10000ml', '[메디플라워]에트투스 트리트먼트 헤어팩 /아르간 헤어팩 1000ml', '(10%) 마미소 1등템 국민반바지/단하루 5850원 /오늘만초특가/세상편한 고무줄팬츠', '[동원샘물]동원샘물 500ml 40병 /생수전문배송', '[구글플레이]기프트코드 20만원 / 구글 기프트카드', '방촌시장원조떡볶이 밀떡/납작만두/어묵/소스 총 646g X2팩 4~6인분 TV소개된 대구3대떡볶이 맵기선택', '청도 달콤한 털복숭아 아삭아삭 대월 경봉 딱딱이(18-19과 내외) 4kg 아웃박스 안전배송', '[제주삼다수][무료배송] 제주 삼다수 그린(무라벨) 2L 24병 (유라벨/무라벨 랜덤발송)', '[코디]기름먹는 UKP 키친타올 140매 4롤 3팩', '인생 삼계탕 백종원의 인생삼계탕 1 2kg x 8팩', '이맛쌀 20kg', '[해태제과]해태제과 띵동 푸드트럭', '[TS티마]여름마스크 100매 TS 레모나 위가드 스카이슘 새부리형 중형 대형 KF94 쿨마스크 모음전', '[맥도날드](맥도날드) 디지털 2만원권', '[두보레]해피바스 두보레 백합 에센스비누4입 4세트(총 16개)', '[파스퇴르]파스퇴르 무항생제 바른목장우유 190mL48팩', '[프로월드컵]PWX 샌들/슬리퍼 아쿠아슈즈 런닝화 운동화 사무용슬리퍼', '[락토핏]종근당건강 유산균 락토핏 골드 50포 3통(150일분) +골드 30포 증정', '[리르]콜라겐 리프팅 괄사 마사지크림 / 5중 탄력개선 임상 완료', '[맥퀸뉴욕]1+1 마이크로 핏 노세밤 파우더 /유분기 컨트롤 보송마무리', '[햇반]햇반 210g x24입', '[구글플레이]기프트코드 3만원 / 구글 기프트카드', '[요즘에]무료반품/주말특가(쿠폰가 19980원)4만장 판매 썸머버전 출시/4칼라/숏 미들 롱/S~XL/썸머굿포유일자슬랙스', '[데상트]데상트 스포츠양말 3족 세트 (3개입 1팩)', '[비비안 슬림핏] 비비안 SLIMFIT 울트라 라이트 패키지(+전고객 브라팬티 1세트)', '[구글플레이]기프트코드 1만원 / 구글 기프트카드', '[탑텐]탑텐 본사직영 쿨에어/베이직티셔츠/팬츠 SS 베스트', '국내가공 오동통 가문어 통족 500g / 최종혜택가 9810원 / 안주 건어물 주전부리 간식 맥주안주', '[BubbasFineFoods]나이키/47브랜드 모자 15종 택1', '[지오다노]15%쿠폰 한소희의 지오다노 여름 베스트 기본템', '[농심]백산수 무라벨 2L 24병 /생수전문배송', '[SOil](S-OIL) 에쓰-오일 모바일주유상품권 5만원권', '[웅진]자연은 90일 토마토 주스 340ml x 24페트', '백종원 인생삼계탕 1200g 8팩', '(하루특가) 벨라무드 쿨반바지/8900원 득템찬스 (시원한 밴딩 반바지)벨라무드 썸머 데일리 쿨 팬츠', '창의사고력수학 팩토/소마셈 세트 단계별 선택구매 (킨더팩토/키즈팩토/LV1~6)', '[오덕쌀]오덕쌀 친들미 10kg', '[맥퀸뉴욕]1+1파우더매트 립스틱 구름같은 무광발색', '[데미안]데미안 썸머 와이드 팬츠 3종', '나이키 뉴발란스 스우시 6팩 크루삭스 운동 스포츠양말', '[에그머니](에그머니) 온라인게임상품권 5만원', '[저스트원](10%쿠폰:15.520원)구김제로 링클프리 반팔셔츠/블라우스', '베스트밀 냉동 오겹살 400g 5팩 (총 2kg) 400g씩 소분 포장하여 발송', '[피죤]액츠퍼펙트 겸용세탁세제 3L+2.2Lx3개+실내건조1.5L증정/특가19900원', '[롯데칠성]펩시콜라 제로 210ml x 60캔 (30캔 2박스)', '[농협](행사상품)믿고먹는안심농협쌀20KG 포', '제주직송 포근포근 미니 밤호박 3kg(5~11)', '[요기요](요기요) 1만원권', '[올반키친]올반 얇은피인생왕교자 455gx4팩(신세계푸드 중복쿠폰 할인)', '[뱅뱅]뱅뱅外 여름 시즌오프 특가 반팔티/반바지/데님 외', '[비비고]비비고 갈비탕 400g 5봉', '[벨롭]밸롭 아쿠아슈즈/워터슈즈/래쉬가드/수영복/비치웨어/여성/남성/아동/키즈 모음전', '[화과방]유기농 우유로 만든 우유앙빵 /앙빵 딸기 35gx20개입 행사중', '[르젠]르젠 앱연동 스마트 BLDC 리모컨 선풍기 LZEF-DC02', '[산과들에]다크초콜릿아몬드20낱봉 +10봉더', '[농심]신라면+튀김우동+새우탕+오짬뽕 6입4개(총24개)', '[스파클]스파클생수 500ml 100병 (도착보장/무라벨생수)', '1+1 아이스 넥쿨러 PCM 자동냉각 넥밴드 라이딩 스포츠 쿨스카프 얼음 목튜브 쿨워머', 'BT21 베이비 조이 슬리퍼_G', '[정관장]홍삼진고 250g 2병 + 홍삼정 에브리타임밸런스 6포 증정 (증정특별혜택/쇼핑백동봉)', 'THE NORTH FACE 노스페이스 23SS 보레알리스 토트 Black (NF0A52SVKX7)', '국내산 쫀득 구운계란 30알 x 2판', '(행사상품)농협프리미엄예천일품쌀10KG 포', '[프로월드컵]PWX 프로월드컵 KF94 새부리형 마스크 100매 대형 중형 소형 특대형', '개념원리 에이급 블랙라벨 초 중등 참고서 선택구매', '[신세계푸드]제스프리 골드키위 점보 2.6kg (17개 내외)(중복쿠폰할인)', '[롯데제과]마가렛트 오리지널 352g 4묶음', '대전 엑스포 아쿠아리움 입장권(6/1~)/대전 신세계 백화점/아이랑/가볼만한곳/실내데이트/데이트', '(놀이대전)전국 히어로플레이파크/히어로키즈카페/경주/대구/동탄/부산/양산/의정부/청주/창원', '스테비아토마토 샤인달콤마토 500gX4팩 달콤한 방울토마토 신선한 제철과일', '[베베숲]NEW 베베숲 프라임 70매 캡 20팩 단독런칭', 'G 더달과 확신의 꿀당도 국내산 천도복숭아 2kg (개당 100g내외)', '[베스트웨이]어린이 튜브 모음전 원형 물놀이 라이더 수영용품', '[코카콜라]코카콜라+스프라이트+환타오렌지 190ml 각30캔', '시즌오프가 1+1 남여공용 비침없는 면 프린팅 티셔츠 장당 3750원 딱 오늘만 가능한 가격', '[모던하우스]보들보들 뱀부100% 거즈블랑켓 120x120 2P 토끼체리 아이보리핑크', '[팸퍼스]팸퍼스 2023 에어차차 팬티 기저귀 4/5/6단계 3팩+신세계5천원권(사은품2주내문자발송)', '[티르리르]10%중복 티르리르 여름 쥬얼리 컬렉션 제안', '[꿈꾸는달팽이]우리 아기 첫 스티커놀이 아기 손바닥 스티커북 세트', '[세이프]세이프 주방세제 천연미네랄 리필 1000ML 4개', '(깨비농원)고당도 하우스귤 2.5kg 소과(2S)', '키라니아 바디워시 데오 드 퍼퓸 체취감소 300ml', '냉동 국내산 한입삼겹살 (800g)', '(놀이대전) 캐리비안베이 골드1 골드2 종일권(이용기간 상이)', '참존 톤업핏 콜라겐 6000 1개월분 28병입 마시는콜라겐 300DA (유통기한 23년10월까지/임박특가)', '(깨비농원)고당도 하우스귤 대용량 4.5kg 소과(2S)', '씨가 적어 먹기 편한 수박 6kg미만', '[다우니]다우니 대용량 섬유유연제 엘레강스 8L 1개', '[구달]청귤 비타C 잡티세럼 더블시너지 세트 (세럼 30ml2+크림 40ml2+아이크림 15ml)', '[아이더](신세계본점)23SS 아이더키즈 JUM23M81공용 쿨티셔츠+바지 세트(시원한 기능성)방학 여행 선물 바캉스 ...', '새우장 1kg/특제비법소스 밥도둑 간장 깐새우장', '[데상트]데상트 스포츠양말 6족 세트 (3개입 2팩)', '[에너지24맨즈](16900원) (1+1) 에너지24맨즈 올인원 프레쉬 에센스 120ml', '(더엣지) [최초2만원인하] 더엣지 23SS 뉴 버튼카라니트 4종', '[뮬라웨어]가장 사랑받는 뮬라 아이템 최대 86% 할인가로 만나보는 썸머 특가전', '[탑텐]탑텐 본사직영 티셔츠/원피스/라운지 외 사계절특가', '[농심]올리브 짜파게티20입 박스', '[마이크로닉스]마이크로닉스 MANIC KM530 무선 저소음 키보드 마우스 합본 핑크 22일 단 하루 10900', '[포렌코즈][포렌코즈] 타투 페일 벨벳 틴트', '[피죤]피죤 섬유유연제 3100ml 4개 핑크로즈', '[스파클][스파클 무라벨] 스파클 생수 2리터 42병', '[지프 (의류)](롯데백화점)공용 로고 반팔티셔츠 7종 택1 (JO2TSU091 외 6종)', '(공식판매처) 캐리비안베이 골드2시즌 종일권/오후권(~8/20)', '[나이키골프]나이키 남여공용볼캡 골프모자 4종 헤리티지86 레거시91', '널담 수제쿠키 6종 1BOX / 2세트 구매시 4천원 할인', '공구/ 숨은그림찾기 시리즈 골라담기', '[한예지]한예지 볼륨앤소프트 천연펄프 화장지 30롤 3팩 (가성비갑)', '아동/성인 여름샌들 아쿠아슈즈 남녀캐주얼화 학생용실내화', '[위닉스]공식인증점)위닉스 17L제습기 {DN3E170-LWK} 1등급 제습기 (빠른발송)', '[오뚜기]진라면 매운맛 40봉', '[네파 키즈](신세계강남점)네파키즈23SS듀얼 슈프림 트레이닝세트KJC5905', '[아침농산]2022년 햅쌀 농부의아침 쌀10kg 백미 상등급', '[오뚜기]진라면 순한맛 40봉', '[바이오가]등드름 바디워시 베타인살리실레이트', '[스카이패션](1+1) 남녀공용 시원한 린넨라이크 쿨 와이드 밴딩팬츠', '[요즘에](쿠폰가 18810원)마법스판 너무편한 청반바지/뉴매직텐션투버튼4부데님 스판 4부 데님 반바지 (무료반품)', '[넥슨](넥슨카드)(PIN발송) 온라인게임상품권 5만원', '[베지밀]베지밀 뼈에좋은 칼슘 검은콩 두유 190ml 64팩', '[스타벅스]스타벅스 더블샷 에스프레소 앤크림 200ml 1박스 36개', '(온더보더 금액권) 모바일 5만원권', '[파스퇴르]파스퇴르 무항생제 바른목장우유 195mL 36입', '[신세계푸드]올바르고 반듯한 우리 돼지 꼬마돈까스 (500gX3개)', '[올리빙]조립마루 데크타일 20p 베란다/욕실 매트 바닥재 장마철 끈적한 바닥 완벽해결', '[한국야쿠르트]헬리코박터 프로젝트 윌 저지방 에코 180ml 10+10 주1회 2주발송 목요일 정기배송', '모해 제주 순살 갈치조림 905g x 3팩 (총 2.715kg) (쿠폰적용가 19710원)', '썬플러스 썸머킹 사과 2.5kg(10-16과내외) 정품', '[PGA]PGA 23SS 최신상 여성용 스트레치 하프팬츠 3종 골프의류 반바지', '캠핑시즌 특가 5분완성 미니 압력밥솥 압력솥 누룽지 캠핑압력솥 가마솥밥 완성 인덕션 5분 304스테인리스', '[스파클][스파클 무라벨] 스파클 생수 500ml 100병', '하림 팝콘치킨 1kg+1kg', '[네파 키즈]기존가 139000원 네파키즈 여름 시즌오프 상하셋업 /잡화 外 SALE', '하루그린 퓨리핏 씨퓨 아로마로즈 3.1L 2개 섬유유연제', '[폴햄]본사직영/폴햄 시즌오프 인기BEST 반팔티/슬랙스/쇼츠外', '[제스프리]제스프리 골드키위 2kg 공식인증 점보', '[크리오]덴티메이트시즌2 초극세모 총30개', '[헤네스]((1+1)) 물놀이 야외활동 자외선차단 성인 플랩캡', '[맥심](행사상품)N 동서식품맥심모카골드믹스230T 2760G', '[요기요](요기요) 3만원권', '[Gfresh](누리푸드)청정우 우삼겹 3초구이 샤브용 250gX4팩', '[롯데칠성]레쓰비 마일드 캔커피 160ml x 60캔 /커피음료/업소용음료/업소용커피', '[어나더디](15%쿠폰가 11820원)(1+1) 더 아이 주니어 하이틴 심리스 브라탑 일체형 노와이어', '[아이러브베베]아이러브베베아기물티슈 핑크100매캡형X20팩', '[오뚜기]오뚜기 맛있는 밥 30입(210gx10)x 3개 / 오뚜기 흰밥', '[구글플레이]기프트코드 15만원 / 구글 기프트카드', '[동원에프앤비]동원 라이트 스탠다드 참치 150g 원터치 10개', '(10% 쿠폰) DCOVERS/디커버스/반팔티/티셔츠/여성/남자/빅사이즈', '[조은해남]조은해남 달콤한 꿀고구마 특상 5kg', '[센트룸]센트룸 실버 남성여성 50세이상 멀티비타민 275정 2개 세트', '[쟈스]쟈스 엑토인 맨얼굴 크림 55ml', '[이경제]래오이경제 리뉴얼 흑염소진액 원元 70ml 120포', '[바디럽]퓨어썸 필터 샤워기+퓨어필터 2BOX 세트 (+선착순 쇼핑백 증정)(1년 사용분)', '[풀무원](20%중복할인) 풀무원 스팀쿡 에어프라이어 올스텐 10.5L PSA-W1000 (주말특가 7/21~23)']\n"
     ]
    }
   ],
   "source": [
    "print(title_list)"
   ]
  },
  {
   "cell_type": "markdown",
   "id": "4a3d6591",
   "metadata": {},
   "source": [
    "# selenium 실행하고 상품명, 가격, 별점 정보 저장"
   ]
  },
  {
   "cell_type": "code",
   "execution_count": 1,
   "id": "0212841f",
   "metadata": {},
   "outputs": [],
   "source": [
    "from selenium import webdriver\n",
    "from selenium.webdriver.common.by import By\n",
    "from selenium.webdriver.common.keys import Keys\n",
    "from selenium.webdriver.chrome.service import Service\n",
    "\n",
    "title_list = list()\n",
    "price_list = list()\n",
    "star_list = list()\n",
    "\n",
    "# ChromeDriver의 경로를 지정하고, WebDriver 인스턴스를 생성합니다.\n",
    "driver = webdriver.Chrome()\n",
    "\n",
    "# 지마켓의 메인 페이지를 엽니다.\n",
    "driver.get('https://www.gmarket.co.kr')\n",
    "\n",
    "# 검색어를 입력할 수 있는 input 요소를 찾습니다.\n",
    "search_box = driver.find_element(By.NAME, 'keyword')\n",
    "\n",
    "# 검색어를 입력하고, Enter 키를 눌러 검색을 실행합니다.\n",
    "search_box.send_keys('손풍기')\n",
    "search_box.send_keys(Keys.RETURN)\n",
    "\n",
    "# 결과 페이지가 로드될 때까지 잠시 기다립니다.\n",
    "driver.implicitly_wait(3)\n",
    "\n",
    "# 정보를 담은 박스를 선택합니다.\n",
    "search_results = driver.find_elements(By.CSS_SELECTOR, 'div.box__information')\n",
    "\n",
    "for result in search_results:\n",
    "    #만족도가 없을 수도 있기에 try except문을 활용\n",
    "    try:\n",
    "        title_element = result.find_element(By.CSS_SELECTOR, 'span.text__item')\n",
    "        price_element = result.find_element(By.CSS_SELECTOR, 'div.box__price-seller > strong')\n",
    "        star_element = result.find_element(By.CSS_SELECTOR, 'span.image__awards-points > span')\n",
    "        title_list.append(title_element.text)\n",
    "        price_list.append(price_element.text)\n",
    "        star_list.append(star_element.text)\n",
    "    except:\n",
    "        pass\n",
    "    \n",
    "# 작업이 끝나면 WebDriver를 종료하여 브라우저 창을 닫습니다.\n",
    "driver.quit()"
   ]
  },
  {
   "cell_type": "markdown",
   "id": "d5562181",
   "metadata": {},
   "source": [
    "# 데이터 프레임으로 저장하고 Excel 파일로 저장하기"
   ]
  },
  {
   "cell_type": "code",
   "execution_count": 2,
   "id": "6a7f288f",
   "metadata": {},
   "outputs": [],
   "source": [
    "import pandas as pd\n",
    "\n",
    "gmarket_selenium_df = pd.DataFrame([title_list, price_list, star_list]).T"
   ]
  },
  {
   "cell_type": "code",
   "execution_count": 3,
   "id": "7a392265",
   "metadata": {},
   "outputs": [],
   "source": [
    "gmarket_selenium_df.columns = ['상품명', '판매가', '만족도']"
   ]
  },
  {
   "cell_type": "code",
   "execution_count": 4,
   "id": "176e224f",
   "metadata": {},
   "outputs": [
    {
     "data": {
      "text/html": [
       "<div>\n",
       "<style scoped>\n",
       "    .dataframe tbody tr th:only-of-type {\n",
       "        vertical-align: middle;\n",
       "    }\n",
       "\n",
       "    .dataframe tbody tr th {\n",
       "        vertical-align: top;\n",
       "    }\n",
       "\n",
       "    .dataframe thead th {\n",
       "        text-align: right;\n",
       "    }\n",
       "</style>\n",
       "<table border=\"1\" class=\"dataframe\">\n",
       "  <thead>\n",
       "    <tr style=\"text-align: right;\">\n",
       "      <th></th>\n",
       "      <th>상품명</th>\n",
       "      <th>판매가</th>\n",
       "      <th>만족도</th>\n",
       "    </tr>\n",
       "  </thead>\n",
       "  <tbody>\n",
       "    <tr>\n",
       "      <th>0</th>\n",
       "      <td>초경량 1+1 미소양품 프리미엄 소형 미니 휴대용 핸디 손 선풍기</td>\n",
       "      <td>29,900</td>\n",
       "      <td></td>\n",
       "    </tr>\n",
       "    <tr>\n",
       "      <th>1</th>\n",
       "      <td>코어제트 휴대용접이식선풍기 무소음 목걸이형 화이트</td>\n",
       "      <td>13,900</td>\n",
       "      <td></td>\n",
       "    </tr>\n",
       "    <tr>\n",
       "      <th>2</th>\n",
       "      <td>1+1 초특가 무선 선풍기 휴대용 손 선풍기 미니 손풍기 힐템</td>\n",
       "      <td>34,900</td>\n",
       "      <td></td>\n",
       "    </tr>\n",
       "    <tr>\n",
       "      <th>3</th>\n",
       "      <td>코어팬시 미니 휴대용 선풍기 무소음 목걸이형 그린 4800mAh</td>\n",
       "      <td>22,680</td>\n",
       "      <td></td>\n",
       "    </tr>\n",
       "    <tr>\n",
       "      <th>4</th>\n",
       "      <td>휴대용 아이스 냉각 미니 손선풍기 샌드베이지</td>\n",
       "      <td>29,900</td>\n",
       "      <td></td>\n",
       "    </tr>\n",
       "    <tr>\n",
       "      <th>...</th>\n",
       "      <td>...</td>\n",
       "      <td>...</td>\n",
       "      <td>...</td>\n",
       "    </tr>\n",
       "    <tr>\n",
       "      <th>96</th>\n",
       "      <td>무선 휴대용 선풍기 MONO-4TFLED 미니 탁상용 (화이트)</td>\n",
       "      <td>16,800</td>\n",
       "      <td>만족도 90% 입니다.</td>\n",
       "    </tr>\n",
       "    <tr>\n",
       "      <th>97</th>\n",
       "      <td>휴대용 선풍기 집게형 스탠드 무선 써큘레이터형 LED</td>\n",
       "      <td>21,900</td>\n",
       "      <td>만족도 92% 입니다.</td>\n",
       "    </tr>\n",
       "    <tr>\n",
       "      <th>98</th>\n",
       "      <td>휴대용 넥밴드 선풍기 충전식 넥선풍기 A206 그린</td>\n",
       "      <td>22,500</td>\n",
       "      <td>만족도 66% 입니다.</td>\n",
       "    </tr>\n",
       "    <tr>\n",
       "      <th>99</th>\n",
       "      <td>엑스 포켓 넥밴드 목걸이 휴대용선풍기 SX-NF21W</td>\n",
       "      <td>24,800</td>\n",
       "      <td>만족도 100% 입니다.</td>\n",
       "    </tr>\n",
       "    <tr>\n",
       "      <th>100</th>\n",
       "      <td>신일 12인치 무선 선풍기 SIF-12WL (BLDC조용하고 파워풀한 모터 선풍기)...</td>\n",
       "      <td>179,000</td>\n",
       "      <td>만족도 80% 입니다.</td>\n",
       "    </tr>\n",
       "  </tbody>\n",
       "</table>\n",
       "<p>101 rows × 3 columns</p>\n",
       "</div>"
      ],
      "text/plain": [
       "                                                   상품명      판매가            만족도\n",
       "0                 초경량 1+1 미소양품 프리미엄 소형 미니 휴대용 핸디 손 선풍기   29,900               \n",
       "1                          코어제트 휴대용접이식선풍기 무소음 목걸이형 화이트   13,900               \n",
       "2                   1+1 초특가 무선 선풍기 휴대용 손 선풍기 미니 손풍기 힐템   34,900               \n",
       "3                  코어팬시 미니 휴대용 선풍기 무소음 목걸이형 그린 4800mAh   22,680               \n",
       "4                             휴대용 아이스 냉각 미니 손선풍기 샌드베이지   29,900               \n",
       "..                                                 ...      ...            ...\n",
       "96                 무선 휴대용 선풍기 MONO-4TFLED 미니 탁상용 (화이트)   16,800   만족도 90% 입니다.\n",
       "97                       휴대용 선풍기 집게형 스탠드 무선 써큘레이터형 LED   21,900   만족도 92% 입니다.\n",
       "98                        휴대용 넥밴드 선풍기 충전식 넥선풍기 A206 그린   22,500   만족도 66% 입니다.\n",
       "99                       엑스 포켓 넥밴드 목걸이 휴대용선풍기 SX-NF21W   24,800  만족도 100% 입니다.\n",
       "100  신일 12인치 무선 선풍기 SIF-12WL (BLDC조용하고 파워풀한 모터 선풍기)...  179,000   만족도 80% 입니다.\n",
       "\n",
       "[101 rows x 3 columns]"
      ]
     },
     "execution_count": 4,
     "metadata": {},
     "output_type": "execute_result"
    }
   ],
   "source": [
    "gmarket_selenium_df"
   ]
  },
  {
   "cell_type": "code",
   "execution_count": 5,
   "id": "ec181364",
   "metadata": {},
   "outputs": [],
   "source": [
    "def extract_comma(x):\n",
    "    price = int(x.replace(\",\", \"\")) #replace로 쉼표까지 제거하고 int로 변환\n",
    "    return price"
   ]
  },
  {
   "cell_type": "code",
   "execution_count": 6,
   "id": "9b7d9fb6",
   "metadata": {},
   "outputs": [],
   "source": [
    "gmarket_selenium_df['판매가'] = gmarket_selenium_df['판매가'].apply(extract_comma)"
   ]
  },
  {
   "cell_type": "code",
   "execution_count": 7,
   "id": "9164b40b",
   "metadata": {},
   "outputs": [],
   "source": [
    "import re\n",
    "\n",
    "def extract_stars(x):\n",
    "    ext = re.findall(\"\\d+%\", x)\n",
    "    #데이터가 빈 경우가 있으므로 try, except문 사용\n",
    "    try:\n",
    "        stars = int(ext[0].replace('%', \"\")) #%를 제거한 뒤 int로 변환\n",
    "    except:\n",
    "        pass\n",
    "    return stars if ext else None #데이터가 있을 경우 stars를 반환, 아닐 경우 None을 반환"
   ]
  },
  {
   "cell_type": "code",
   "execution_count": 8,
   "id": "230d91f7",
   "metadata": {},
   "outputs": [],
   "source": [
    "gmarket_selenium_df['만족도'] = gmarket_selenium_df['만족도'].apply(extract_stars)"
   ]
  },
  {
   "cell_type": "code",
   "execution_count": 9,
   "id": "a25fd9f2",
   "metadata": {},
   "outputs": [],
   "source": [
    "gmarket_selenium_df = gmarket_selenium_df.dropna().reset_index().iloc[:, 1:]"
   ]
  },
  {
   "cell_type": "code",
   "execution_count": 10,
   "id": "7c58aa80",
   "metadata": {},
   "outputs": [],
   "source": [
    "gmarket_selenium_df.to_excel('gmarket_handfan_stars.xlsx')"
   ]
  },
  {
   "cell_type": "markdown",
   "id": "991f806a",
   "metadata": {},
   "source": [
    "# 과제 (100점)"
   ]
  },
  {
   "cell_type": "markdown",
   "id": "f2f4a5c1",
   "metadata": {},
   "source": [
    "#### 본인이 관심 있는 키워드에 대해서 해당 크롤링을 반복해서 수행하시오. 데이터를 수집하여 excel 파일로 저장하시오."
   ]
  },
  {
   "cell_type": "code",
   "execution_count": 11,
   "id": "33c4a281",
   "metadata": {},
   "outputs": [],
   "source": [
    "#1. 필요한 라이브러리 import 하기 (10점)\n",
    "from selenium import webdriver\n",
    "from selenium.webdriver.common.by import By\n",
    "from selenium.webdriver.common.keys import Keys\n",
    "from selenium.webdriver.chrome.service import Service\n",
    "import pandas as pd\n",
    "import re"
   ]
  },
  {
   "cell_type": "code",
   "execution_count": 12,
   "id": "895a50b8",
   "metadata": {},
   "outputs": [],
   "source": [
    "#2. 본인이 관심 있는 키워드에 대해서 크롤링을 수행하고 상품명, 가격, 별점 정보 저장하기 (40점)\n",
    "from selenium import webdriver\n",
    "from selenium.webdriver.common.by import By\n",
    "from selenium.webdriver.common.keys import Keys\n",
    "from selenium.webdriver.chrome.service import Service\n",
    "\n",
    "title_list = list()\n",
    "price_list = list()\n",
    "star_list = list()\n",
    "\n",
    "# ChromeDriver의 경로를 지정하고, WebDriver 인스턴스를 생성합니다.\n",
    "driver = webdriver.Chrome()\n",
    "\n",
    "# 지마켓의 메인 페이지를 엽니다.\n",
    "driver.get('https://www.gmarket.co.kr')\n",
    "\n",
    "# 검색어를 입력할 수 있는 input 요소를 찾습니다.\n",
    "search_box = driver.find_element(By.NAME, 'keyword')\n",
    "\n",
    "# 검색어를 입력하고, Enter 키를 눌러 검색을 실행합니다.\n",
    "search_box.send_keys('냉장고')\n",
    "search_box.send_keys(Keys.RETURN)\n",
    "\n",
    "# 결과 페이지가 로드될 때까지 잠시 기다립니다.\n",
    "driver.implicitly_wait(3)\n",
    "\n",
    "# 정보를 담은 박스를 선택합니다.\n",
    "search_results = driver.find_elements(By.CSS_SELECTOR, 'div.box__information')\n",
    "\n",
    "for result in search_results:\n",
    "    #만족도가 없을 수도 있기에 try except문을 활용\n",
    "    try:\n",
    "        title_element = result.find_element(By.CSS_SELECTOR, 'span.text__item')\n",
    "        price_element = result.find_element(By.CSS_SELECTOR, 'div.box__price-seller > strong')\n",
    "        star_element = result.find_element(By.CSS_SELECTOR, 'span.image__awards-points > span')\n",
    "        title_list.append(title_element.text)\n",
    "        price_list.append(price_element.text)\n",
    "        star_list.append(star_element.text)\n",
    "    except:\n",
    "        pass\n",
    "    \n",
    "# 작업이 끝나면 WebDriver를 종료하여 브라우저 창을 닫습니다.\n",
    "driver.quit()"
   ]
  },
  {
   "cell_type": "code",
   "execution_count": 14,
   "id": "99c586a5",
   "metadata": {},
   "outputs": [],
   "source": [
    "#3. 적절히 데이터 전처리를 하여 DataFrame 객체로 만들고 Excel 파일로 저장하기 (50점)\n",
    "#이때, DataFrame의 열은 \"상품명, 판매가, 만족도\"로 구성되어야 함.\n",
    "gmarket_selenium_df = pd.DataFrame([title_list, price_list, star_list]).T\n",
    "gmarket_selenium_df.columns = ['상품명', '판매가', '만족도']\n",
    "\n",
    "gmarket_selenium_df\n",
    "\n",
    "def extract_comma(x):\n",
    "    price = int(x.replace(\",\", \"\")) #replace로 쉼표까지 제거하고 int로 변환\n",
    "    return price\n",
    "\n",
    "gmarket_selenium_df['판매가'] = gmarket_selenium_df['판매가'].apply(extract_comma)\n",
    "\n",
    "def extract_stars(x):\n",
    "    ext = re.findall(\"\\d+%\", x)\n",
    "    #데이터가 빈 경우가 있으므로 try, except문 사용\n",
    "    try:\n",
    "        stars = int(ext[0].replace('%', \"\")) #%를 제거한 뒤 int로 변환\n",
    "    except:\n",
    "        pass\n",
    "    return stars if ext else None #데이터가 있을 경우 stars를 반환, 아닐 경우 None을 반환\n",
    "gmarket_selenium_df['만족도'] = gmarket_selenium_df['만족도'].apply(extract_stars)\n",
    "gmarket_selenium_df = gmarket_selenium_df.dropna().reset_index().iloc[:, 1:]\n",
    "gmarket_selenium_df.to_excel('gmarket_refrigirator_stars.xlsx')"
   ]
  },
  {
   "cell_type": "code",
   "execution_count": null,
   "id": "4eab1048-cf6f-45c2-9175-616e98bd5f3f",
   "metadata": {},
   "outputs": [],
   "source": []
  }
 ],
 "metadata": {
  "kernelspec": {
   "display_name": "Python 3 (ipykernel)",
   "language": "python",
   "name": "python3"
  },
  "language_info": {
   "codemirror_mode": {
    "name": "ipython",
    "version": 3
   },
   "file_extension": ".py",
   "mimetype": "text/x-python",
   "name": "python",
   "nbconvert_exporter": "python",
   "pygments_lexer": "ipython3",
   "version": "3.11.4"
  }
 },
 "nbformat": 4,
 "nbformat_minor": 5
}
